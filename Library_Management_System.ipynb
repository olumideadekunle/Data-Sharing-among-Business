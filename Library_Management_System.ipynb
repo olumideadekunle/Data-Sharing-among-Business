{
  "nbformat": 4,
  "nbformat_minor": 0,
  "metadata": {
    "colab": {
      "provenance": [],
      "authorship_tag": "ABX9TyNQzTU9AO7gkmW/FOvP77WD",
      "include_colab_link": true
    },
    "kernelspec": {
      "name": "python3",
      "display_name": "Python 3"
    },
    "language_info": {
      "name": "python"
    }
  },
  "cells": [
    {
      "cell_type": "markdown",
      "metadata": {
        "id": "view-in-github",
        "colab_type": "text"
      },
      "source": [
        "<a href=\"https://colab.research.google.com/github/olumideadekunle/Data-Sharing-among-Business/blob/main/Library_Management_System.ipynb\" target=\"_parent\"><img src=\"https://colab.research.google.com/assets/colab-badge.svg\" alt=\"Open In Colab\"/></a>"
      ]
    },
    {
      "cell_type": "code",
      "execution_count": null,
      "metadata": {
        "colab": {
          "base_uri": "https://localhost:8080/"
        },
        "id": "GhkQT_Vg5RGZ",
        "outputId": "b4f20c97-b316-487c-c314-7964fa7acd56"
      },
      "outputs": [
        {
          "output_type": "stream",
          "name": "stdout",
          "text": [
            "\u001b[31mERROR: Could not find a version that satisfies the requirement sqlite3 (from versions: none)\u001b[0m\u001b[31m\n",
            "\u001b[0m\u001b[31mERROR: No matching distribution found for sqlite3\u001b[0m\u001b[31m\n",
            "\u001b[0mRequirement already satisfied: sqlalchemy in /usr/local/lib/python3.11/dist-packages (2.0.40)\n",
            "Requirement already satisfied: greenlet>=1 in /usr/local/lib/python3.11/dist-packages (from sqlalchemy) (3.2.1)\n",
            "Requirement already satisfied: typing-extensions>=4.6.0 in /usr/local/lib/python3.11/dist-packages (from sqlalchemy) (4.13.2)\n"
          ]
        }
      ],
      "source": [
        "# Install SQLite and SQLAlchemy\n",
        "!pip install sqlite3\n",
        "!pip install sqlalchemy\n"
      ]
    },
    {
      "cell_type": "code",
      "source": [
        "import sqlite3\n",
        "\n",
        "# Create or connect to an SQLite database in memory\n",
        "conn = sqlite3.connect(':memory:')  # for in-memory database (not persistent)\n",
        "\n",
        "# Create a cursor object to interact with the database\n",
        "cursor = conn.cursor()\n",
        "\n",
        "# Create tables (as per your project)\n",
        "cursor.execute('''\n",
        "CREATE TABLE Authors (\n",
        "    author_id INTEGER PRIMARY KEY,\n",
        "    first_name TEXT NOT NULL,\n",
        "    last_name TEXT NOT NULL,\n",
        "    birth_date TEXT\n",
        ");\n",
        "''')\n",
        "\n",
        "cursor.execute('''\n",
        "CREATE TABLE Books (\n",
        "    book_id INTEGER PRIMARY KEY,\n",
        "    title TEXT NOT NULL,\n",
        "    genre TEXT,\n",
        "    publish_date TEXT,\n",
        "    author_id INTEGER,\n",
        "    FOREIGN KEY (author_id) REFERENCES Authors (author_id)\n",
        ");\n",
        "''')\n",
        "\n",
        "cursor.execute('''\n",
        "CREATE TABLE Customers (\n",
        "    customer_id INTEGER PRIMARY KEY,\n",
        "    first_name TEXT NOT NULL,\n",
        "    last_name TEXT NOT NULL,\n",
        "    email TEXT UNIQUE,\n",
        "    phone_number TEXT\n",
        ");\n",
        "''')\n",
        "\n",
        "cursor.execute('''\n",
        "CREATE TABLE Transactions (\n",
        "    transaction_id INTEGER PRIMARY KEY,\n",
        "    book_id INTEGER,\n",
        "    customer_id INTEGER,\n",
        "    borrow_date TEXT,\n",
        "    return_date TEXT,\n",
        "    FOREIGN KEY (book_id) REFERENCES Books (book_id),\n",
        "    FOREIGN KEY (customer_id) REFERENCES Customers (customer_id)\n",
        ");\n",
        "''')\n",
        "\n",
        "# Commit changes and close the connection\n",
        "conn.commit()\n"
      ],
      "metadata": {
        "id": "WZHIuJNL5jwF"
      },
      "execution_count": null,
      "outputs": []
    },
    {
      "cell_type": "code",
      "source": [
        "# Insert data into tables\n",
        "cursor.execute(\"INSERT INTO Authors (first_name, last_name, birth_date) VALUES ('J.K.', 'Rowling', '1965-07-31')\")\n",
        "cursor.execute(\"INSERT INTO Books (title, genre, publish_date, author_id) VALUES ('Harry Potter', 'Fantasy', '1997-06-26', 1)\")\n",
        "cursor.execute(\"INSERT INTO Customers (first_name, last_name, email, phone_number) VALUES ('John', 'Doe', 'john@example.com', '1234567890')\")\n",
        "cursor.execute(\"INSERT INTO Transactions (book_id, customer_id, borrow_date) VALUES (1, 1, '2025-05-12')\")\n",
        "\n",
        "conn.commit()\n"
      ],
      "metadata": {
        "id": "2nas88Sp5rFt"
      },
      "execution_count": null,
      "outputs": []
    },
    {
      "cell_type": "code",
      "source": [
        "# Query data\n",
        "cursor.execute(\"SELECT * FROM Books;\")\n",
        "books = cursor.fetchall()\n",
        "print(books)\n"
      ],
      "metadata": {
        "colab": {
          "base_uri": "https://localhost:8080/"
        },
        "id": "bafJFr6C5yin",
        "outputId": "c03daf94-8995-46a8-9687-96ed6024aae5"
      },
      "execution_count": null,
      "outputs": [
        {
          "output_type": "stream",
          "name": "stdout",
          "text": [
            "[(1, 'Harry Potter', 'Fantasy', '1997-06-26', 1)]\n"
          ]
        }
      ]
    },
    {
      "cell_type": "code",
      "source": [
        "conn.close()\n",
        "\n",
        "# Reconnect to save the database as a file\n",
        "conn = sqlite3.connect('library_management.db')\n"
      ],
      "metadata": {
        "id": "_Ci6fmjI55UU"
      },
      "execution_count": null,
      "outputs": []
    },
    {
      "cell_type": "code",
      "source": [
        "from google.colab import files\n",
        "files.download('library_management.db')\n"
      ],
      "metadata": {
        "colab": {
          "base_uri": "https://localhost:8080/",
          "height": 17
        },
        "id": "8zw2jkzy6AkM",
        "outputId": "7ded251b-c0a9-4acb-b2b3-b7e3e3b03735"
      },
      "execution_count": null,
      "outputs": [
        {
          "output_type": "display_data",
          "data": {
            "text/plain": [
              "<IPython.core.display.Javascript object>"
            ],
            "application/javascript": [
              "\n",
              "    async function download(id, filename, size) {\n",
              "      if (!google.colab.kernel.accessAllowed) {\n",
              "        return;\n",
              "      }\n",
              "      const div = document.createElement('div');\n",
              "      const label = document.createElement('label');\n",
              "      label.textContent = `Downloading \"${filename}\": `;\n",
              "      div.appendChild(label);\n",
              "      const progress = document.createElement('progress');\n",
              "      progress.max = size;\n",
              "      div.appendChild(progress);\n",
              "      document.body.appendChild(div);\n",
              "\n",
              "      const buffers = [];\n",
              "      let downloaded = 0;\n",
              "\n",
              "      const channel = await google.colab.kernel.comms.open(id);\n",
              "      // Send a message to notify the kernel that we're ready.\n",
              "      channel.send({})\n",
              "\n",
              "      for await (const message of channel.messages) {\n",
              "        // Send a message to notify the kernel that we're ready.\n",
              "        channel.send({})\n",
              "        if (message.buffers) {\n",
              "          for (const buffer of message.buffers) {\n",
              "            buffers.push(buffer);\n",
              "            downloaded += buffer.byteLength;\n",
              "            progress.value = downloaded;\n",
              "          }\n",
              "        }\n",
              "      }\n",
              "      const blob = new Blob(buffers, {type: 'application/binary'});\n",
              "      const a = document.createElement('a');\n",
              "      a.href = window.URL.createObjectURL(blob);\n",
              "      a.download = filename;\n",
              "      div.appendChild(a);\n",
              "      a.click();\n",
              "      div.remove();\n",
              "    }\n",
              "  "
            ]
          },
          "metadata": {}
        },
        {
          "output_type": "display_data",
          "data": {
            "text/plain": [
              "<IPython.core.display.Javascript object>"
            ],
            "application/javascript": [
              "download(\"download_9b7dbe80-47cf-442f-8458-d9dfbe18dc48\", \"library_management.db\", 0)"
            ]
          },
          "metadata": {}
        }
      ]
    }
  ]
}