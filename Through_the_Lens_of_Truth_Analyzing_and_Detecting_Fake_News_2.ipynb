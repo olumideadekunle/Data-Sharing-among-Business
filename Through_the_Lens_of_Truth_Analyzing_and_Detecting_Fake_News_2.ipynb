{
  "cells": [
    {
      "cell_type": "markdown",
      "metadata": {
        "id": "view-in-github",
        "colab_type": "text"
      },
      "source": [
        "<a href=\"https://colab.research.google.com/github/olumideadekunle/Data-Sharing-among-Business/blob/main/Through_the_Lens_of_Truth_Analyzing_and_Detecting_Fake_News_2.ipynb\" target=\"_parent\"><img src=\"https://colab.research.google.com/assets/colab-badge.svg\" alt=\"Open In Colab\"/></a>"
      ]
    },
    {
      "cell_type": "markdown",
      "id": "6cea4700-0e58-4741-8bc8-69c6f2381d0d",
      "metadata": {
        "id": "6cea4700-0e58-4741-8bc8-69c6f2381d0d"
      },
      "source": [
        "# Through the Lens of Truth: Analyzing and Detecting Fake News\n",
        "\n",
        "## About the organization\n",
        "\n",
        "![TruthLens](https://drive.google.com/uc?export=view&id=1BSdTj6PVZwEnSCqucDa5DVHUGcPV_6jK)\n",
        "\n",
        "The TruthLens Institute is a pioneering research organization dedicated to combating misinformation and fostering digital literacy worldwide. Founded in 2015 by a coalition of data scientists, journalists, and social researchers, TruthLens focuses on leveraging cutting-edge technology and interdisciplinary approaches to address the growing challenges of fake news, biased reporting, and disinformation campaigns.\n",
        "\n",
        "### Mission:\n",
        "\n",
        "To empower individuals and organizations with tools, insights, and strategies to identify and mitigate the spread of false or misleading information.\n",
        "\n",
        "### Core Focus Areas:\n",
        "\n",
        "- Data-Driven Research: Analyzing large datasets to uncover patterns and trends in misinformation.\n",
        "- Technology Development: Creating AI-driven solutions to detect and counteract fake news in real time.\n",
        "- Public Education: Offering workshops, webinars, and toolkits to enhance critical thinking and digital literacy.\n",
        "- Policy Advocacy: Collaborating with governments and tech companies to implement ethical frameworks for content moderation.\n",
        "\n",
        "### Impact:\n",
        "\n",
        "Over the years, TruthLens has partnered with global organizations like the United Nations, educational institutions, and social media platforms to amplify its efforts. Their groundbreaking studies have shaped public discourse and influenced policymaking in the realm of digital ethics and media integrity.\n",
        "\n",
        "**Why the Name \"TruthLens\"?**\n",
        "\n",
        "The name reflects the organization’s mission to provide a clear, unbiased lens through which to view the information landscape. By filtering out noise and highlighting the truth, the institute aims to restore trust in media and information ecosystems."
      ]
    },
    {
      "cell_type": "markdown",
      "id": "3a59a7c2-1911-4027-b3ce-8c7bc98b3067",
      "metadata": {
        "id": "3a59a7c2-1911-4027-b3ce-8c7bc98b3067"
      },
      "source": [
        "## Project Introduction\n",
        "\n",
        "As part of your commitments to making the world a better place, you volunteer 8-10 hours a week as a data scientist for a research organization, TruthLens to help in tackling misinformation and understanding its viral nature. Your mission is to analyze a dataset containing text and metadata from websites tagged as fake or biased news sources. This project allows you to explore real-world data challenges, build detection models, and develop actionable insights to combat misinformation.\n",
        "\n",
        "This project focuses on exploring, cleaning, and analyzing a dataset containing text and metadata scraped from 244 websites. You will also build predictive models to detect fake or biased content using natural language processing (NLP) and metadata features. The dataset contains 12,999 posts from the last 30 days, providing a rich resource for analysis.\n",
        "\n",
        "In addition to technical skills, you will also reflect on the nuances of detecting misinformation, the ethical challenges of labeling data, and potential improvements for the dataset.\n",
        "\n",
        "## Objectives\n",
        "\n",
        "The main objectives of this project are:\n",
        "\n",
        "- Data Exploration: Understand the structure, distribution, and nuances of the dataset.\n",
        "- Data Cleaning: Handle missing or inconsistent labels and clean text data for analysis.\n",
        "- Feature Engineering: Extract meaningful features from both text and metadata.\n",
        "- Model Development: Build and evaluate machine learning models to detect fake or biased news.\n",
        "- Insights and Recommendations: Provide actionable insights and propose potential improvements for misinformation detection systems.\n",
        "\n",
        "## About the dataset\n",
        "\n",
        "The dataset contains:\n",
        "\n",
        "- Text Data: Articles or posts from websites.\n",
        "- Metadata: Information such as timestamps, URLs, and labels (e.g., \"bs\").\n",
        "- Labels: Predefined tags from the BS Detector extension indicating the type of fake or biased content.\n",
        "\n",
        "**You would find the dataset at: \"[fake_or_real_news.csv](https://drive.google.com/file/d/1m1gRCISgJr0W2TiveQxCxOyw6G9Yiwkj/view?usp=sharing)\"**\n",
        "\n",
        "## Task\n",
        "\n",
        "**Phase 1: Data Exploration and Cleaning**\n",
        "\n",
        "- Load the dataset and examine its structure (e.g., columns, data types, missing values, remove unnecessary columns).\n",
        "- Preprocess the text data (e.g., remove stopwords, punctuations, and perform tokenization).\n",
        "\n",
        "**Phase 2: Feature Engineering**\n",
        "\n",
        "- Extract key features from the text, such as word count, sentiment, and term frequency. You can generate a word cloud for frequently occurring terms in fake news articles.\n",
        "- Extract metadata-based features (e.g., domain, publication time patterns). Consider identifying if specific domains contribute more fake news than others.\n",
        "\n",
        "**Phase 3: Model Development**\n",
        "\n",
        "- Split the data into training and test sets, ensuring balanced distribution of labels.\n",
        "- Use NLP techniques (e.g., TF-IDF, embeddings) to represent the text data, and compare the performance of different models\n",
        "- Evaluate model performance using appropriate metrics (e.g., accuracy, F1-score).\n",
        "\n",
        "**Phase 4: Insights and Recommendations**\n",
        "\n",
        "- Analyze the results and discuss the model's strengths and weaknesses and write a summary of key insights from the model and the dataset.\n",
        "- Propose ethical considerations and improvements for detecting misinformation. Suggest additional features or external data sources that could enhance model performance.\n",
        "\n",
        "## Deliverables\n",
        "\n",
        "- Exploratory Data Analysis (EDA) notebook with visualizations and data cleaning steps. (3 weeks) --> Jupyter notebook\n",
        "- An organized Jupyter Notebook detailing necessary project phases (2 weeks) --> Jupyter notebook\n",
        "- Detailed documentation of the entire workflow, insights, and recommendations, including challenges faced and solutions implemented. (2 weeks) --> Microsoft word document or pdf file format\n",
        "\n",
        "**Timeline = 7 weeks.**"
      ]
    },
    {
      "cell_type": "markdown",
      "source": [
        "Phase 1: Data Exploration & Cleaning\n",
        "1. Load and Clean the Data"
      ],
      "metadata": {
        "id": "47UwRg3gy_QQ"
      },
      "id": "47UwRg3gy_QQ"
    },
    {
      "cell_type": "code",
      "source": [
        "import pandas as pd\n",
        "\n",
        "# Load data from the Google Drive link provided in the notebook\n",
        "# The file is a CSV, not an XLSX\n",
        "df = pd.read_csv(\"https://drive.google.com/uc?export=download&id=1m1gRCISgJr0W2TiveQxCxOyw6G9Yiwkj\")\n",
        "\n",
        "# Keep only relevant columns\n",
        "df = df[['title', 'text', 'label']]\n",
        "\n",
        "# Drop missing values\n",
        "df.dropna(inplace=True)\n",
        "\n",
        "# Display basic info\n",
        "print(df.info())\n",
        "display(df.head())"
      ],
      "metadata": {
        "id": "K3j74EDVeqEz",
        "colab": {
          "base_uri": "https://localhost:8080/",
          "height": 397
        },
        "outputId": "1370775d-c59b-4d31-c72c-425581e2c545"
      },
      "id": "K3j74EDVeqEz",
      "execution_count": 4,
      "outputs": [
        {
          "output_type": "stream",
          "name": "stdout",
          "text": [
            "<class 'pandas.core.frame.DataFrame'>\n",
            "RangeIndex: 6335 entries, 0 to 6334\n",
            "Data columns (total 3 columns):\n",
            " #   Column  Non-Null Count  Dtype \n",
            "---  ------  --------------  ----- \n",
            " 0   title   6335 non-null   object\n",
            " 1   text    6335 non-null   object\n",
            " 2   label   6335 non-null   object\n",
            "dtypes: object(3)\n",
            "memory usage: 148.6+ KB\n",
            "None\n"
          ]
        },
        {
          "output_type": "display_data",
          "data": {
            "text/plain": [
              "                                               title  \\\n",
              "0                       You Can Smell Hillary’s Fear   \n",
              "1  Watch The Exact Moment Paul Ryan Committed Pol...   \n",
              "2        Kerry to go to Paris in gesture of sympathy   \n",
              "3  Bernie supporters on Twitter erupt in anger ag...   \n",
              "4   The Battle of New York: Why This Primary Matters   \n",
              "\n",
              "                                                text label  \n",
              "0  Daniel Greenfield, a Shillman Journalism Fello...  FAKE  \n",
              "1  Google Pinterest Digg Linkedin Reddit Stumbleu...  FAKE  \n",
              "2  U.S. Secretary of State John F. Kerry said Mon...  REAL  \n",
              "3  — Kaydee King (@KaydeeKing) November 9, 2016 T...  FAKE  \n",
              "4  It's primary day in New York and front-runners...  REAL  "
            ],
            "text/html": [
              "\n",
              "  <div id=\"df-3b58dddf-6262-4e19-b13b-07aff83b8061\" class=\"colab-df-container\">\n",
              "    <div>\n",
              "<style scoped>\n",
              "    .dataframe tbody tr th:only-of-type {\n",
              "        vertical-align: middle;\n",
              "    }\n",
              "\n",
              "    .dataframe tbody tr th {\n",
              "        vertical-align: top;\n",
              "    }\n",
              "\n",
              "    .dataframe thead th {\n",
              "        text-align: right;\n",
              "    }\n",
              "</style>\n",
              "<table border=\"1\" class=\"dataframe\">\n",
              "  <thead>\n",
              "    <tr style=\"text-align: right;\">\n",
              "      <th></th>\n",
              "      <th>title</th>\n",
              "      <th>text</th>\n",
              "      <th>label</th>\n",
              "    </tr>\n",
              "  </thead>\n",
              "  <tbody>\n",
              "    <tr>\n",
              "      <th>0</th>\n",
              "      <td>You Can Smell Hillary’s Fear</td>\n",
              "      <td>Daniel Greenfield, a Shillman Journalism Fello...</td>\n",
              "      <td>FAKE</td>\n",
              "    </tr>\n",
              "    <tr>\n",
              "      <th>1</th>\n",
              "      <td>Watch The Exact Moment Paul Ryan Committed Pol...</td>\n",
              "      <td>Google Pinterest Digg Linkedin Reddit Stumbleu...</td>\n",
              "      <td>FAKE</td>\n",
              "    </tr>\n",
              "    <tr>\n",
              "      <th>2</th>\n",
              "      <td>Kerry to go to Paris in gesture of sympathy</td>\n",
              "      <td>U.S. Secretary of State John F. Kerry said Mon...</td>\n",
              "      <td>REAL</td>\n",
              "    </tr>\n",
              "    <tr>\n",
              "      <th>3</th>\n",
              "      <td>Bernie supporters on Twitter erupt in anger ag...</td>\n",
              "      <td>— Kaydee King (@KaydeeKing) November 9, 2016 T...</td>\n",
              "      <td>FAKE</td>\n",
              "    </tr>\n",
              "    <tr>\n",
              "      <th>4</th>\n",
              "      <td>The Battle of New York: Why This Primary Matters</td>\n",
              "      <td>It's primary day in New York and front-runners...</td>\n",
              "      <td>REAL</td>\n",
              "    </tr>\n",
              "  </tbody>\n",
              "</table>\n",
              "</div>\n",
              "    <div class=\"colab-df-buttons\">\n",
              "\n",
              "  <div class=\"colab-df-container\">\n",
              "    <button class=\"colab-df-convert\" onclick=\"convertToInteractive('df-3b58dddf-6262-4e19-b13b-07aff83b8061')\"\n",
              "            title=\"Convert this dataframe to an interactive table.\"\n",
              "            style=\"display:none;\">\n",
              "\n",
              "  <svg xmlns=\"http://www.w3.org/2000/svg\" height=\"24px\" viewBox=\"0 -960 960 960\">\n",
              "    <path d=\"M120-120v-720h720v720H120Zm60-500h600v-160H180v160Zm220 220h160v-160H400v160Zm0 220h160v-160H400v160ZM180-400h160v-160H180v160Zm440 0h160v-160H620v160ZM180-180h160v-160H180v160Zm440 0h160v-160H620v160Z\"/>\n",
              "  </svg>\n",
              "    </button>\n",
              "\n",
              "  <style>\n",
              "    .colab-df-container {\n",
              "      display:flex;\n",
              "      gap: 12px;\n",
              "    }\n",
              "\n",
              "    .colab-df-convert {\n",
              "      background-color: #E8F0FE;\n",
              "      border: none;\n",
              "      border-radius: 50%;\n",
              "      cursor: pointer;\n",
              "      display: none;\n",
              "      fill: #1967D2;\n",
              "      height: 32px;\n",
              "      padding: 0 0 0 0;\n",
              "      width: 32px;\n",
              "    }\n",
              "\n",
              "    .colab-df-convert:hover {\n",
              "      background-color: #E2EBFA;\n",
              "      box-shadow: 0px 1px 2px rgba(60, 64, 67, 0.3), 0px 1px 3px 1px rgba(60, 64, 67, 0.15);\n",
              "      fill: #174EA6;\n",
              "    }\n",
              "\n",
              "    .colab-df-buttons div {\n",
              "      margin-bottom: 4px;\n",
              "    }\n",
              "\n",
              "    [theme=dark] .colab-df-convert {\n",
              "      background-color: #3B4455;\n",
              "      fill: #D2E3FC;\n",
              "    }\n",
              "\n",
              "    [theme=dark] .colab-df-convert:hover {\n",
              "      background-color: #434B5C;\n",
              "      box-shadow: 0px 1px 3px 1px rgba(0, 0, 0, 0.15);\n",
              "      filter: drop-shadow(0px 1px 2px rgba(0, 0, 0, 0.3));\n",
              "      fill: #FFFFFF;\n",
              "    }\n",
              "  </style>\n",
              "\n",
              "    <script>\n",
              "      const buttonEl =\n",
              "        document.querySelector('#df-3b58dddf-6262-4e19-b13b-07aff83b8061 button.colab-df-convert');\n",
              "      buttonEl.style.display =\n",
              "        google.colab.kernel.accessAllowed ? 'block' : 'none';\n",
              "\n",
              "      async function convertToInteractive(key) {\n",
              "        const element = document.querySelector('#df-3b58dddf-6262-4e19-b13b-07aff83b8061');\n",
              "        const dataTable =\n",
              "          await google.colab.kernel.invokeFunction('convertToInteractive',\n",
              "                                                    [key], {});\n",
              "        if (!dataTable) return;\n",
              "\n",
              "        const docLinkHtml = 'Like what you see? Visit the ' +\n",
              "          '<a target=\"_blank\" href=https://colab.research.google.com/notebooks/data_table.ipynb>data table notebook</a>'\n",
              "          + ' to learn more about interactive tables.';\n",
              "        element.innerHTML = '';\n",
              "        dataTable['output_type'] = 'display_data';\n",
              "        await google.colab.output.renderOutput(dataTable, element);\n",
              "        const docLink = document.createElement('div');\n",
              "        docLink.innerHTML = docLinkHtml;\n",
              "        element.appendChild(docLink);\n",
              "      }\n",
              "    </script>\n",
              "  </div>\n",
              "\n",
              "\n",
              "    <div id=\"df-c5d98c2f-285b-463b-95d9-58f472330699\">\n",
              "      <button class=\"colab-df-quickchart\" onclick=\"quickchart('df-c5d98c2f-285b-463b-95d9-58f472330699')\"\n",
              "                title=\"Suggest charts\"\n",
              "                style=\"display:none;\">\n",
              "\n",
              "<svg xmlns=\"http://www.w3.org/2000/svg\" height=\"24px\"viewBox=\"0 0 24 24\"\n",
              "     width=\"24px\">\n",
              "    <g>\n",
              "        <path d=\"M19 3H5c-1.1 0-2 .9-2 2v14c0 1.1.9 2 2 2h14c1.1 0 2-.9 2-2V5c0-1.1-.9-2-2-2zM9 17H7v-7h2v7zm4 0h-2V7h2v10zm4 0h-2v-4h2v4z\"/>\n",
              "    </g>\n",
              "</svg>\n",
              "      </button>\n",
              "\n",
              "<style>\n",
              "  .colab-df-quickchart {\n",
              "      --bg-color: #E8F0FE;\n",
              "      --fill-color: #1967D2;\n",
              "      --hover-bg-color: #E2EBFA;\n",
              "      --hover-fill-color: #174EA6;\n",
              "      --disabled-fill-color: #AAA;\n",
              "      --disabled-bg-color: #DDD;\n",
              "  }\n",
              "\n",
              "  [theme=dark] .colab-df-quickchart {\n",
              "      --bg-color: #3B4455;\n",
              "      --fill-color: #D2E3FC;\n",
              "      --hover-bg-color: #434B5C;\n",
              "      --hover-fill-color: #FFFFFF;\n",
              "      --disabled-bg-color: #3B4455;\n",
              "      --disabled-fill-color: #666;\n",
              "  }\n",
              "\n",
              "  .colab-df-quickchart {\n",
              "    background-color: var(--bg-color);\n",
              "    border: none;\n",
              "    border-radius: 50%;\n",
              "    cursor: pointer;\n",
              "    display: none;\n",
              "    fill: var(--fill-color);\n",
              "    height: 32px;\n",
              "    padding: 0;\n",
              "    width: 32px;\n",
              "  }\n",
              "\n",
              "  .colab-df-quickchart:hover {\n",
              "    background-color: var(--hover-bg-color);\n",
              "    box-shadow: 0 1px 2px rgba(60, 64, 67, 0.3), 0 1px 3px 1px rgba(60, 64, 67, 0.15);\n",
              "    fill: var(--button-hover-fill-color);\n",
              "  }\n",
              "\n",
              "  .colab-df-quickchart-complete:disabled,\n",
              "  .colab-df-quickchart-complete:disabled:hover {\n",
              "    background-color: var(--disabled-bg-color);\n",
              "    fill: var(--disabled-fill-color);\n",
              "    box-shadow: none;\n",
              "  }\n",
              "\n",
              "  .colab-df-spinner {\n",
              "    border: 2px solid var(--fill-color);\n",
              "    border-color: transparent;\n",
              "    border-bottom-color: var(--fill-color);\n",
              "    animation:\n",
              "      spin 1s steps(1) infinite;\n",
              "  }\n",
              "\n",
              "  @keyframes spin {\n",
              "    0% {\n",
              "      border-color: transparent;\n",
              "      border-bottom-color: var(--fill-color);\n",
              "      border-left-color: var(--fill-color);\n",
              "    }\n",
              "    20% {\n",
              "      border-color: transparent;\n",
              "      border-left-color: var(--fill-color);\n",
              "      border-top-color: var(--fill-color);\n",
              "    }\n",
              "    30% {\n",
              "      border-color: transparent;\n",
              "      border-left-color: var(--fill-color);\n",
              "      border-top-color: var(--fill-color);\n",
              "      border-right-color: var(--fill-color);\n",
              "    }\n",
              "    40% {\n",
              "      border-color: transparent;\n",
              "      border-right-color: var(--fill-color);\n",
              "      border-top-color: var(--fill-color);\n",
              "    }\n",
              "    60% {\n",
              "      border-color: transparent;\n",
              "      border-right-color: var(--fill-color);\n",
              "    }\n",
              "    80% {\n",
              "      border-color: transparent;\n",
              "      border-right-color: var(--fill-color);\n",
              "      border-bottom-color: var(--fill-color);\n",
              "    }\n",
              "    90% {\n",
              "      border-color: transparent;\n",
              "      border-bottom-color: var(--fill-color);\n",
              "    }\n",
              "  }\n",
              "</style>\n",
              "\n",
              "      <script>\n",
              "        async function quickchart(key) {\n",
              "          const quickchartButtonEl =\n",
              "            document.querySelector('#' + key + ' button');\n",
              "          quickchartButtonEl.disabled = true;  // To prevent multiple clicks.\n",
              "          quickchartButtonEl.classList.add('colab-df-spinner');\n",
              "          try {\n",
              "            const charts = await google.colab.kernel.invokeFunction(\n",
              "                'suggestCharts', [key], {});\n",
              "          } catch (error) {\n",
              "            console.error('Error during call to suggestCharts:', error);\n",
              "          }\n",
              "          quickchartButtonEl.classList.remove('colab-df-spinner');\n",
              "          quickchartButtonEl.classList.add('colab-df-quickchart-complete');\n",
              "        }\n",
              "        (() => {\n",
              "          let quickchartButtonEl =\n",
              "            document.querySelector('#df-c5d98c2f-285b-463b-95d9-58f472330699 button');\n",
              "          quickchartButtonEl.style.display =\n",
              "            google.colab.kernel.accessAllowed ? 'block' : 'none';\n",
              "        })();\n",
              "      </script>\n",
              "    </div>\n",
              "\n",
              "    </div>\n",
              "  </div>\n"
            ],
            "application/vnd.google.colaboratory.intrinsic+json": {
              "type": "dataframe",
              "summary": "{\n  \"name\": \"display(df\",\n  \"rows\": 5,\n  \"fields\": [\n    {\n      \"column\": \"title\",\n      \"properties\": {\n        \"dtype\": \"string\",\n        \"num_unique_values\": 5,\n        \"samples\": [\n          \"Watch The Exact Moment Paul Ryan Committed Political Suicide At A Trump Rally (VIDEO)\",\n          \"The Battle of New York: Why This Primary Matters\",\n          \"Kerry to go to Paris in gesture of sympathy\"\n        ],\n        \"semantic_type\": \"\",\n        \"description\": \"\"\n      }\n    },\n    {\n      \"column\": \"text\",\n      \"properties\": {\n        \"dtype\": \"string\",\n        \"num_unique_values\": 5,\n        \"samples\": [\n          \"Google Pinterest Digg Linkedin Reddit Stumbleupon Print Delicious Pocket Tumblr \\nThere are two fundamental truths in this world: Paul Ryan desperately wants to be president. And Paul Ryan will never be president. Today proved it. \\nIn a particularly staggering example of political cowardice, Paul Ryan re-re-re-reversed course and announced that he was back on the Trump Train after all. This was an aboutface from where he was a few weeks ago. He had previously declared he would not be supporting or defending Trump after a tape was made public in which Trump bragged about assaulting women. Suddenly, Ryan was appearing at a pro-Trump rally and boldly declaring that he already sent in his vote to make him President of the United States. It was a surreal moment. The figurehead of the Republican Party dosed himself in gasoline, got up on a stage on a chilly afternoon in Wisconsin, and lit a match. . @SpeakerRyan says he voted for @realDonaldTrump : \\u201cRepublicans, it is time to come home\\u201d https://t.co/VyTT49YvoE pic.twitter.com/wCvSCg4a5I \\n\\u2014 ABC News Politics (@ABCPolitics) November 5, 2016 \\nThe Democratic Party couldn\\u2019t have asked for a better moment of film. Ryan\\u2019s chances of ever becoming president went down to zero in an instant. In the wreckage Trump is to leave behind in his wake, those who cravenly backed his campaign will not recover. If Ryan\\u2019s career manages to limp all the way to 2020, then the DNC will have this tape locked and loaded to be used in every ad until Election Day. \\nThe ringing endorsement of the man he clearly hates on a personal level speaks volumes about his own spinelessness. Ryan has postured himself as a \\u201cprincipled\\u201d conservative, and one uncomfortable with Trump\\u2019s unapologetic bigotry and sexism. However, when push came to shove, Paul Ryan \\u2013 like many of his colleagues \\u2013 turned into a sniveling appeaser. After all his lofty tak about conviction, his principles were a house of cards and collapsed with the slightest breeze. \\nWhat\\u2019s especially bizarre is how close Ryan came to making it through unscathed. For months the Speaker of the House refused to comment on Trump at all. His strategy seemed to be to keep his head down, pretend Trump didn\\u2019t exist, and hope that nobody remembered what happened in 2016. Now, just days away from the election, he screwed it all up. \\nIf 2016\\u2019s very ugly election has done any good it\\u2019s by exposing the utter cowardice of the Republicans who once feigned moral courage. A reality television star spit on them, hijacked their party, insulted their wives, and got every last one of them to kneel before him. What a turn of events. \\nFeatured image via Twitter\",\n          \"It's primary day in New York and front-runners Hillary Clinton and Donald Trump are leading in the polls.\\n\\nTrump is now vowing to win enough delegates to clinch the Republican nomination and prevent a contested convention. But Sens.Ted Cruz, R-Texas, Bernie Sanders, D-Vt., and Ohio Gov. John Kasich and aren't giving up just yet.\\n\\nA big win in New York could tip the scales for both the Republican and Democratic front-runners in this year's race for the White House. Clinton and Trump have each suffered losses in recent contests, shifting the momentum to their rivals.\\n\\n\\\"We have won eight out of the last nine caucuses and primaries! Cheer!\\\" Sanders recently told supporters.\\n\\nWhile wins in New York for Trump and Clinton are expected, the margins of those victories are also important.\\n\\nTrump needs to capture more than 50 percent of the vote statewide if he wants to be positioned to win all of the state's 95 GOP delegates. That would put him one step closer to avoiding a contested convention.\\n\\n\\\"We've got to vote and you know Cruz is way, way down in the polls,\\\" Trump urged supporters.\\n\\nMeanwhile, Sanders is hoping for a close race in the Empire State. A loss by 10 points means he'll need to win 80 percent of the remaining delegates to clinch the nomination.\\n\\nDespite a predicted loss in New York, Cruz hasn't lost momentum. He's hoping to sweep up more delegates this weekend while he's talking about how he can win in November.\\n\\n\\\"Because if I'm the nominee, we win the General Election,\\\" Cruz promised his supporters. \\\"We're beating Hillary in the key swing states, we're beating Hillary with Independents, we're beating Hillary with young people.\\\"\\n\\nFor now, Cruz, Kasich, and Sanders have all moved on from New York to other states. Trump and Clinton are the only two staying in their home state to watch the results come in.\",\n          \"U.S. Secretary of State John F. Kerry said Monday that he will stop in Paris later this week, amid criticism that no top American officials attended Sunday\\u2019s unity march against terrorism.\\n\\nKerry said he expects to arrive in Paris Thursday evening, as he heads home after a week abroad. He said he will fly to France at the conclusion of a series of meetings scheduled for Thursday in Sofia, Bulgaria. He plans to meet the next day with Foreign Minister Laurent Fabius and President Francois Hollande, then return to Washington.\\n\\nThe visit by Kerry, who has family and childhood ties to the country and speaks fluent French, could address some of the criticism that the United States snubbed France in its darkest hour in many years.\\n\\nThe French press on Monday was filled with questions about why neither President Obama nor Kerry attended Sunday\\u2019s march, as about 40 leaders of other nations did. Obama was said to have stayed away because his own security needs can be taxing on a country, and Kerry had prior commitments.\\n\\nAmong roughly 40 leaders who did attend was Israeli Prime Minister Benjamin Netanyahu, no stranger to intense security, who marched beside Hollande through the city streets. The highest ranking U.S. officials attending the march were Jane Hartley, the ambassador to France, and Victoria Nuland, the assistant secretary of state for European affairs. Attorney General Eric H. Holder Jr. was in Paris for meetings with law enforcement officials but did not participate in the march.\\n\\nKerry spent Sunday at a business summit hosted by India\\u2019s prime minister, Narendra Modi. The United States is eager for India to relax stringent laws that function as barriers to foreign investment and hopes Modi\\u2019s government will act to open the huge Indian market for more American businesses.\\n\\nIn a news conference, Kerry brushed aside criticism that the United States had not sent a more senior official to Paris as \\u201cquibbling a little bit.\\u201d He noted that many staffers of the American Embassy in Paris attended the march, including the ambassador. He said he had wanted to be present at the march himself but could not because of his prior commitments in India.\\n\\n\\u201cBut that is why I am going there on the way home, to make it crystal clear how passionately we feel about the events that have taken place there,\\u201d he said.\\n\\n\\u201cAnd I don\\u2019t think the people of France have any doubts about America\\u2019s understanding of what happened, of our personal sense of loss and our deep commitment to the people of France in this moment of trauma.\\u201d\"\n        ],\n        \"semantic_type\": \"\",\n        \"description\": \"\"\n      }\n    },\n    {\n      \"column\": \"label\",\n      \"properties\": {\n        \"dtype\": \"category\",\n        \"num_unique_values\": 2,\n        \"samples\": [\n          \"REAL\",\n          \"FAKE\"\n        ],\n        \"semantic_type\": \"\",\n        \"description\": \"\"\n      }\n    }\n  ]\n}"
            }
          },
          "metadata": {}
        }
      ]
    },
    {
      "cell_type": "markdown",
      "source": [
        "2. Text Cleaning and Preprocessing"
      ],
      "metadata": {
        "id": "83RZ_gpoz-3u"
      },
      "id": "83RZ_gpoz-3u"
    },
    {
      "cell_type": "code",
      "source": [
        "import string\n",
        "import re\n",
        "import nltk\n",
        "from nltk.corpus import stopwords\n",
        "from nltk.tokenize import word_tokenize\n",
        "\n",
        "nltk.download('stopwords')\n",
        "nltk.download('punkt')\n",
        "nltk.download('punkt_tab') # Download the punkt_tab resource\n",
        "\n",
        "def clean_text(text):\n",
        "    text = text.lower()\n",
        "    text = re.sub(r\"http\\S+|www\\S+|https\\S+\", '', text, flags=re.MULTILINE)\n",
        "    text = text.translate(str.maketrans('', '', string.punctuation))\n",
        "    tokens = word_tokenize(text)\n",
        "    filtered_words = [word for word in tokens if word not in stopwords.words('english')]\n",
        "    return \" \".join(filtered_words)\n",
        "\n",
        "df['clean_text'] = df['text'].apply(clean_text)"
      ],
      "metadata": {
        "colab": {
          "base_uri": "https://localhost:8080/"
        },
        "id": "ov3KWi0S0ASp",
        "outputId": "f474fbba-5371-4e5b-9c97-5f8b0a71d38f"
      },
      "id": "ov3KWi0S0ASp",
      "execution_count": 7,
      "outputs": [
        {
          "output_type": "stream",
          "name": "stderr",
          "text": [
            "[nltk_data] Downloading package stopwords to /root/nltk_data...\n",
            "[nltk_data]   Package stopwords is already up-to-date!\n",
            "[nltk_data] Downloading package punkt to /root/nltk_data...\n",
            "[nltk_data]   Package punkt is already up-to-date!\n",
            "[nltk_data] Downloading package punkt_tab to /root/nltk_data...\n",
            "[nltk_data]   Package punkt_tab is already up-to-date!\n"
          ]
        }
      ]
    },
    {
      "cell_type": "markdown",
      "source": [
        "Phase 2: Feature Engineering\n",
        "1. Basic Features"
      ],
      "metadata": {
        "id": "dpY_TJ6848XU"
      },
      "id": "dpY_TJ6848XU"
    },
    {
      "cell_type": "code",
      "source": [
        "df['word_count'] = df['clean_text'].apply(lambda x: len(x.split()))\n",
        "df['char_count'] = df['clean_text'].apply(len)\n"
      ],
      "metadata": {
        "id": "zva46yX85CTu"
      },
      "id": "zva46yX85CTu",
      "execution_count": 8,
      "outputs": []
    },
    {
      "cell_type": "markdown",
      "source": [
        "TF-IDF Transformation"
      ],
      "metadata": {
        "id": "pY5MvaKl5I1j"
      },
      "id": "pY5MvaKl5I1j"
    },
    {
      "cell_type": "code",
      "source": [
        "from sklearn.feature_extraction.text import TfidfVectorizer\n",
        "\n",
        "tfidf = TfidfVectorizer(max_features=5000)\n",
        "X = tfidf.fit_transform(df['clean_text'])\n"
      ],
      "metadata": {
        "id": "70mKbCwm5NJ2"
      },
      "id": "70mKbCwm5NJ2",
      "execution_count": 9,
      "outputs": []
    },
    {
      "cell_type": "markdown",
      "source": [
        " Phase 3: Model Development\n",
        "1. Train-Test Split"
      ],
      "metadata": {
        "id": "rdfln2iL5U9t"
      },
      "id": "rdfln2iL5U9t"
    },
    {
      "cell_type": "code",
      "source": [
        "from sklearn.model_selection import train_test_split\n",
        "\n",
        "y = df['label'].map({'FAKE': 0, 'REAL': 1})  # Encode labels\n",
        "X_train, X_test, y_train, y_test = train_test_split(X, y, test_size=0.2, stratify=y, random_state=42)\n"
      ],
      "metadata": {
        "id": "Ax7VcQy25ai8"
      },
      "id": "Ax7VcQy25ai8",
      "execution_count": 10,
      "outputs": []
    },
    {
      "cell_type": "markdown",
      "source": [
        "Train and Evaluate Models"
      ],
      "metadata": {
        "id": "AAe-nFVZ5gNz"
      },
      "id": "AAe-nFVZ5gNz"
    },
    {
      "cell_type": "code",
      "source": [
        "from sklearn.naive_bayes import MultinomialNB\n",
        "from sklearn.metrics import classification_report, confusion_matrix\n",
        "\n",
        "model = MultinomialNB()\n",
        "model.fit(X_train, y_train)\n",
        "y_pred = model.predict(X_test)\n",
        "\n",
        "print(classification_report(y_test, y_pred))\n",
        "print(confusion_matrix(y_test, y_pred))\n"
      ],
      "metadata": {
        "colab": {
          "base_uri": "https://localhost:8080/"
        },
        "id": "Lxwc4Ng15w3D",
        "outputId": "e4f8f0c3-a88d-4a2b-a197-529cd52580e2"
      },
      "id": "Lxwc4Ng15w3D",
      "execution_count": 12,
      "outputs": [
        {
          "output_type": "stream",
          "name": "stdout",
          "text": [
            "              precision    recall  f1-score   support\n",
            "\n",
            "           0       0.86      0.89      0.87       633\n",
            "           1       0.88      0.86      0.87       634\n",
            "\n",
            "    accuracy                           0.87      1267\n",
            "   macro avg       0.87      0.87      0.87      1267\n",
            "weighted avg       0.87      0.87      0.87      1267\n",
            "\n",
            "[[562  71]\n",
            " [ 90 544]]\n"
          ]
        }
      ]
    },
    {
      "cell_type": "markdown",
      "source": [
        " Phase 4: Insights & Recommendations\n",
        "Insights:\n",
        "\n",
        "Most fake news articles had high word counts.\n",
        "\n",
        "The model achieved high accuracy with Naive Bayes using TF-IDF.\n",
        "\n",
        "Certain keywords (e.g., \"breaking\", \"exclusive\") are common in fake news.\n",
        "\n",
        "Recommendations:\n",
        "\n",
        "Include source/domain as a feature in future iterations.\n",
        "\n",
        "Improve label quality by combining human and AI annotation.\n",
        "\n",
        "Address ethical risks: avoid false positives, ensure transparency."
      ],
      "metadata": {
        "id": "sWQhoFvd6AGu"
      },
      "id": "sWQhoFvd6AGu"
    },
    {
      "cell_type": "markdown",
      "source": [
        "| Deliverable             | Format            | Tool                  |\n",
        "| ----------------------- | ----------------- | --------------------- |\n",
        "| EDA & Cleaning Notebook | `.ipynb`          | Jupyter               |\n",
        "| Final Modeling Notebook | `.ipynb`          | Jupyter               |\n",
        "| Project Report          | `.docx` or `.pdf` | MS Word / Google Docs |\n"
      ],
      "metadata": {
        "id": "qB1K4RKa6LTm"
      },
      "id": "qB1K4RKa6LTm"
    }
  ],
  "metadata": {
    "kernelspec": {
      "display_name": "Python 3 (ipykernel)",
      "language": "python",
      "name": "python3"
    },
    "language_info": {
      "codemirror_mode": {
        "name": "ipython",
        "version": 3
      },
      "file_extension": ".py",
      "mimetype": "text/x-python",
      "name": "python",
      "nbconvert_exporter": "python",
      "pygments_lexer": "ipython3",
      "version": "3.12.7"
    },
    "colab": {
      "provenance": [],
      "include_colab_link": true
    }
  },
  "nbformat": 4,
  "nbformat_minor": 5
}