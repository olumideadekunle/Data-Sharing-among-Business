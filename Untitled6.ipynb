{
  "nbformat": 4,
  "nbformat_minor": 0,
  "metadata": {
    "colab": {
      "provenance": [],
      "authorship_tag": "ABX9TyMU4pzRB4czoNxH7WtevtEf",
      "include_colab_link": true
    },
    "kernelspec": {
      "name": "python3",
      "display_name": "Python 3"
    },
    "language_info": {
      "name": "python"
    }
  },
  "cells": [
    {
      "cell_type": "markdown",
      "metadata": {
        "id": "view-in-github",
        "colab_type": "text"
      },
      "source": [
        "<a href=\"https://colab.research.google.com/github/olumideadekunle/Data-Sharing-among-Business/blob/main/Untitled6.ipynb\" target=\"_parent\"><img src=\"https://colab.research.google.com/assets/colab-badge.svg\" alt=\"Open In Colab\"/></a>"
      ]
    },
    {
      "cell_type": "markdown",
      "source": [],
      "metadata": {
        "id": "JuEo7ssRjJH4"
      }
    },
    {
      "cell_type": "markdown",
      "source": [],
      "metadata": {
        "id": "Obq3M4LOjJEs"
      }
    },
    {
      "cell_type": "markdown",
      "source": [],
      "metadata": {
        "id": "41fq26FbjJCX"
      }
    },
    {
      "cell_type": "markdown",
      "source": [],
      "metadata": {
        "id": "SUgsBkfijI_j"
      }
    },
    {
      "cell_type": "markdown",
      "source": [
        "Create a function named calculate_discount(price, discount_percent) that calculates the final price after applying a discount. The function should take the original price (price) and the discount percentage (discount_percent) as parameters. If the discount is 20% or higher, apply the discount; otherwise, return the original price.\n",
        "Using the calculate_discount function, prompt the user to enter the original price of an item and the discount percentage. Print the final price after applying the discount, or if no discount was applied, print the original price."
      ],
      "metadata": {
        "id": "48B_Q-K_jI8b"
      }
    },
    {
      "cell_type": "markdown",
      "source": [],
      "metadata": {
        "id": "0rYSZuM3jI3V"
      }
    },
    {
      "cell_type": "markdown",
      "source": [],
      "metadata": {
        "id": "Y3mfQx2zjIsb"
      }
    },
    {
      "cell_type": "code",
      "execution_count": 1,
      "metadata": {
        "colab": {
          "base_uri": "https://localhost:8080/"
        },
        "id": "h3ExBYsAjHFP",
        "outputId": "18cc90fe-3a64-43b5-a4fd-16e395d1f5ba"
      },
      "outputs": [
        {
          "output_type": "stream",
          "name": "stdout",
          "text": [
            "Enter the original price: 200\n",
            "Enter the discount percentage: 20\n",
            "The final price is: 160.00\n"
          ]
        }
      ],
      "source": [
        "def calculate_discount(price, discount_percent):\n",
        "    \"\"\"\n",
        "    Calculate the final price after applying a discount.\n",
        "    Only applies the discount if it is 20% or higher.\n",
        "    \"\"\"\n",
        "    if discount_percent >= 20:\n",
        "        discount_amount = price * (discount_percent / 100)\n",
        "        final_price = price - discount_amount\n",
        "        return final_price\n",
        "    else:\n",
        "        return price\n",
        "\n",
        "# Prompt user for input\n",
        "price = float(input(\"Enter the original price: \"))\n",
        "discount_percent = float(input(\"Enter the discount percentage: \"))\n",
        "\n",
        "# Calculate and display the final price\n",
        "final_price = calculate_discount(price, discount_percent)\n",
        "print(f\"The final price is: {final_price:.2f}\")\n"
      ]
    }
  ]
}