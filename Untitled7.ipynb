{
  "nbformat": 4,
  "nbformat_minor": 0,
  "metadata": {
    "colab": {
      "provenance": [],
      "authorship_tag": "ABX9TyMgvI2Ow5Kj1JCD3nXX4lDc",
      "include_colab_link": true
    },
    "kernelspec": {
      "name": "python3",
      "display_name": "Python 3"
    },
    "language_info": {
      "name": "python"
    }
  },
  "cells": [
    {
      "cell_type": "markdown",
      "metadata": {
        "id": "view-in-github",
        "colab_type": "text"
      },
      "source": [
        "<a href=\"https://colab.research.google.com/github/olumideadekunle/Data-Sharing-among-Business/blob/main/Untitled7.ipynb\" target=\"_parent\"><img src=\"https://colab.research.google.com/assets/colab-badge.svg\" alt=\"Open In Colab\"/></a>"
      ]
    },
    {
      "cell_type": "code",
      "execution_count": null,
      "metadata": {
        "id": "wF-TLQE6sQK0"
      },
      "outputs": [],
      "source": [
        " File Read & Write Challenge\n",
        "Open and read a file.\n",
        "Modify its content.\n",
        "Write the modified content to a new file."
      ]
    },
    {
      "cell_type": "markdown",
      "source": [
        " File Read & Write Challenge\n",
        "Open and read a file.\n",
        "Modify its content.\n",
        "Write the modified content to a new file."
      ],
      "metadata": {
        "id": "A5ValNeTsV6M"
      }
    },
    {
      "cell_type": "markdown",
      "source": [],
      "metadata": {
        "id": "yddGDN0YsV3Q"
      }
    },
    {
      "cell_type": "markdown",
      "source": [],
      "metadata": {
        "id": "MWYJ5ArBsV0u"
      }
    },
    {
      "cell_type": "markdown",
      "source": [],
      "metadata": {
        "id": "-bEL4pZ5sVxt"
      }
    },
    {
      "cell_type": "code",
      "source": [],
      "metadata": {
        "id": "S7ekQMxpslnF"
      },
      "execution_count": null,
      "outputs": []
    },
    {
      "cell_type": "markdown",
      "source": [],
      "metadata": {
        "id": "77nGv8T9sVuq"
      }
    },
    {
      "cell_type": "markdown",
      "source": [],
      "metadata": {
        "id": "GB6YkKrnsVjY"
      }
    },
    {
      "cell_type": "code",
      "source": [
        "def modify_file(input_filename, output_filename):\n",
        "    try:\n",
        "        with open(input_filename, \"r\") as infile:\n",
        "            content = infile.read()\n",
        "\n",
        "        # Modify content (e.g., convert to uppercase)\n",
        "        modified_content = content.upper()\n",
        "\n",
        "        with open(output_filename, \"w\") as outfile:\n",
        "            outfile.write(modified_content)\n",
        "\n",
        "        print(f\"File '{input_filename}' was read and modified content saved to '{output_filename}'.\")\n",
        "\n",
        "    except FileNotFoundError:\n",
        "        print(f\"Error: The file '{input_filename}' was not found.\")\n",
        "    except IOError:\n",
        "        print(\"Error: An issue occurred while handling the file.\")\n",
        "\n",
        "# Example Usage:\n",
        "modify_file(\"sample.txt\", \"modified_sample.txt\")\n"
      ],
      "metadata": {
        "colab": {
          "base_uri": "https://localhost:8080/"
        },
        "id": "0wqDIshesXOW",
        "outputId": "85adf654-8e10-4fcf-b2af-86e8594b90ea"
      },
      "execution_count": 1,
      "outputs": [
        {
          "output_type": "stream",
          "name": "stdout",
          "text": [
            "Error: The file 'sample.txt' was not found.\n"
          ]
        }
      ]
    },
    {
      "cell_type": "markdown",
      "source": [],
      "metadata": {
        "id": "H7PIZjN0spzV"
      }
    },
    {
      "cell_type": "markdown",
      "source": [],
      "metadata": {
        "id": "MfrFpxfHsqg2"
      }
    },
    {
      "cell_type": "code",
      "source": [
        "def read_file():\n",
        "    filename = input(\"Enter the filename: \")\n",
        "\n",
        "    try:\n",
        "        with open(filename, \"r\") as file:\n",
        "            content = file.read()\n",
        "            print(\"\\nFile Content:\\n\", content)\n",
        "\n",
        "    except FileNotFoundError:\n",
        "        print(f\"Error: The file '{filename}' does not exist. Please check the name and try again.\")\n",
        "    except PermissionError:\n",
        "        print(f\"Error: Permission denied while accessing '{filename}'.\")\n",
        "    except Exception as e:\n",
        "        print(f\"An unexpected error occurred: {e}\")\n",
        "\n",
        "# Example Usage:\n",
        "read_file()\n"
      ],
      "metadata": {
        "colab": {
          "base_uri": "https://localhost:8080/"
        },
        "id": "7dugNMRTsrN9",
        "outputId": "91cf0cf3-343f-45ed-99fc-602467be357b"
      },
      "execution_count": 2,
      "outputs": [
        {
          "output_type": "stream",
          "name": "stdout",
          "text": [
            "Enter the filename: Olumide\n",
            "Error: The file 'Olumide' does not exist. Please check the name and try again.\n"
          ]
        }
      ]
    },
    {
      "cell_type": "markdown",
      "source": [],
      "metadata": {
        "id": "fL5lO6Cesppf"
      }
    }
  ]
}