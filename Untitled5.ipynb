{
  "nbformat": 4,
  "nbformat_minor": 0,
  "metadata": {
    "colab": {
      "provenance": [],
      "authorship_tag": "ABX9TyPB+XiZ9W7DfJR0vHVai4QK",
      "include_colab_link": true
    },
    "kernelspec": {
      "name": "python3",
      "display_name": "Python 3"
    },
    "language_info": {
      "name": "python"
    }
  },
  "cells": [
    {
      "cell_type": "markdown",
      "metadata": {
        "id": "view-in-github",
        "colab_type": "text"
      },
      "source": [
        "<a href=\"https://colab.research.google.com/github/olumideadekunle/Data-Sharing-among-Business/blob/main/Untitled5.ipynb\" target=\"_parent\"><img src=\"https://colab.research.google.com/assets/colab-badge.svg\" alt=\"Open In Colab\"/></a>"
      ]
    },
    {
      "cell_type": "markdown",
      "source": [],
      "metadata": {
        "id": "A1VBp4xFY7hT"
      }
    },
    {
      "cell_type": "code",
      "execution_count": 3,
      "metadata": {
        "colab": {
          "base_uri": "https://localhost:8080/"
        },
        "id": "QN8pcaYYYdv5",
        "outputId": "be3ff75a-8841-410e-fd67-00d1e21b9c48"
      },
      "outputs": [
        {
          "output_type": "stream",
          "name": "stdout",
          "text": [
            "10 + 5 = 15\n",
            "10 - 5 = 5\n",
            "10 * 5 = 50\n",
            "10 / 5 = 2.0\n",
            "Error: Division by zero is not allowed.\n",
            "Invalid operation. Please enter +, -, *, or /.\n"
          ]
        }
      ],
      "source": [
        "def calculator(num1, num2, operation):\n",
        "    # Perform the calculation based on the operation\n",
        "    if operation == '+':\n",
        "        result = num1 + num2\n",
        "        return f\"{num1} + {num2} = {result}\"\n",
        "    elif operation == '-':\n",
        "        result = num1 - num2\n",
        "        return f\"{num1} - {num2} = {result}\"\n",
        "    elif operation == '*':\n",
        "        result = num1 * num2\n",
        "        return f\"{num1} * {num2} = {result}\"\n",
        "    elif operation == '/':\n",
        "        if num2 != 0:\n",
        "            result = num1 / num2\n",
        "            return f\"{num1} / {num2} = {result}\"\n",
        "        else:\n",
        "            return \"Error: Division by zero is not allowed.\"\n",
        "    else:\n",
        "        return \"Invalid operation. Please enter +, -, *, or /.\"\n",
        "\n",
        "# Example test cases\n",
        "if __name__ == \"__main__\":\n",
        "    test_cases = [\n",
        "        (10, 5, '+'),\n",
        "        (10, 5, '-'),\n",
        "        (10, 5, '*'),\n",
        "        (10, 5, '/'),\n",
        "        (10, 0, '/'),\n",
        "        (10, 5, '%')\n",
        "    ]\n",
        "\n",
        "    for num1, num2, op in test_cases:\n",
        "        print(calculator(num1, num2, op))\n",
        "\n",
        "\n",
        "\n",
        "\n",
        "\n"
      ]
    },
    {
      "cell_type": "markdown",
      "source": [],
      "metadata": {
        "id": "PGg5XAIUYgfw"
      }
    }
  ]
}